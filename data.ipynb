{
 "cells": [
  {
   "cell_type": "code",
   "execution_count": 521,
   "metadata": {},
   "outputs": [],
   "source": [
    "\n",
    "import pandas as pd            \n",
    "import streamlit as st\n",
    "import numpy as np               \n",
    "import matplotlib.pyplot as plt  \n",
    "import seaborn as sns            \n",
    "from sklearn import datasets                              \n",
    "from sklearn.svm import SVC  \n",
    "from sklearn.ensemble import RandomForestClassifier, GradientBoostingClassifier \n",
    "from sklearn.linear_model import LogisticRegression\n",
    "from sklearn.tree import DecisionTreeClassifier\n",
    "from sklearn.neighbors import KNeighborsClassifier\n",
    "from sklearn.metrics import classification_report, accuracy_score\n",
    "from sklearn.ensemble import RandomForestClassifier \n",
    "from sklearn.model_selection import train_test_split, GridSearchCV\n",
    "from sklearn.preprocessing import OneHotEncoder\n",
    "import joblib                                            \n",
    "from flask import Flask, request, jsonify               \n"
   ]
  },
  {
   "cell_type": "code",
   "execution_count": null,
   "metadata": {},
   "outputs": [],
   "source": [
    "df=pd.read_csv('Student Depression Dataset.csv')\n",
    "df"
   ]
  },
  {
   "cell_type": "code",
   "execution_count": null,
   "metadata": {},
   "outputs": [],
   "source": [
    "df.describe()\n"
   ]
  },
  {
   "cell_type": "code",
   "execution_count": null,
   "metadata": {},
   "outputs": [],
   "source": [
    "df.shape\n"
   ]
  },
  {
   "cell_type": "code",
   "execution_count": null,
   "metadata": {},
   "outputs": [],
   "source": [
    "df.isnull().sum()\n"
   ]
  },
  {
   "cell_type": "code",
   "execution_count": null,
   "metadata": {},
   "outputs": [],
   "source": [
    "df.info()\n"
   ]
  },
  {
   "cell_type": "code",
   "execution_count": null,
   "metadata": {},
   "outputs": [],
   "source": [
    "df['Gender'].hist()\n"
   ]
  },
  {
   "cell_type": "code",
   "execution_count": null,
   "metadata": {},
   "outputs": [],
   "source": [
    "sns.countplot(x='Gender', data=df)"
   ]
  },
  {
   "cell_type": "code",
   "execution_count": 529,
   "metadata": {},
   "outputs": [],
   "source": [
    "df = df.drop(columns =  ['id','Age', 'Degree', 'Profession','Work Pressure','City'])"
   ]
  },
  {
   "cell_type": "code",
   "execution_count": null,
   "metadata": {},
   "outputs": [],
   "source": [
    "df.info()"
   ]
  },
  {
   "cell_type": "code",
   "execution_count": null,
   "metadata": {},
   "outputs": [],
   "source": [
    "mean = df['Financial Stress'].mean()\n",
    "print(\"Mean:\", mean)"
   ]
  },
  {
   "cell_type": "code",
   "execution_count": 532,
   "metadata": {},
   "outputs": [],
   "source": [
    "df['Financial Stress'] = df['Financial Stress'].fillna(df['Financial Stress'].mean())"
   ]
  },
  {
   "cell_type": "code",
   "execution_count": null,
   "metadata": {},
   "outputs": [],
   "source": [
    "df.isnull().sum()"
   ]
  },
  {
   "cell_type": "code",
   "execution_count": null,
   "metadata": {},
   "outputs": [],
   "source": [
    "\n",
    "\n",
    "\n",
    "df = pd.get_dummies(df, columns=['Sleep Duration','Dietary Habits'])\n",
    "\n",
    "df"
   ]
  },
  {
   "cell_type": "code",
   "execution_count": null,
   "metadata": {},
   "outputs": [],
   "source": [
    "\n",
    "binary_columns = ['Have you ever had suicidal thoughts ?', 'Family History of Mental Illness', 'Gender']\n",
    "\n",
    "\n",
    "for col in binary_columns:\n",
    "    if col == \"Gender\":\n",
    "        df[col] = df[col].map({'Male': 1, 'Female': 0})\n",
    "    else:\n",
    "        df[col] = df[col].map({'Yes': 1, 'No': 0}) \n",
    "\n",
    "\n",
    "print(df.head())\n"
   ]
  },
  {
   "cell_type": "code",
   "execution_count": null,
   "metadata": {},
   "outputs": [],
   "source": [
    "df"
   ]
  },
  {
   "cell_type": "code",
   "execution_count": null,
   "metadata": {},
   "outputs": [],
   "source": [
    "df.info()"
   ]
  },
  {
   "cell_type": "code",
   "execution_count": 538,
   "metadata": {},
   "outputs": [],
   "source": [
    "\n",
    "X = df.drop(columns=['Depression']).to_numpy()\n",
    "y = df['Depression'].to_numpy()  # Target variable"
   ]
  },
  {
   "cell_type": "code",
   "execution_count": 539,
   "metadata": {},
   "outputs": [],
   "source": [
    "    # Train-test split\n",
    "X_train, X_test, y_train, y_test = train_test_split(X, y, test_size=0.2, random_state=42)"
   ]
  },
  {
   "cell_type": "code",
   "execution_count": 540,
   "metadata": {},
   "outputs": [],
   "source": [
    "#  models\n",
    "models = {\n",
    "    \"Logistic Regression\": LogisticRegression(random_state=42, max_iter=1000),\n",
    "    \"Decision Tree\": DecisionTreeClassifier(random_state=42),\n",
    "    \"Random Forest\": RandomForestClassifier(n_estimators=100, random_state=42),\n",
    "    \"Support Vector Machine\": SVC(random_state=42),\n",
    "    \"K-Nearest Neighbors\": KNeighborsClassifier(n_neighbors=5),\n",
    "    \"Gradient Boosting\": GradientBoostingClassifier(random_state=42)\n",
    "}\n"
   ]
  },
  {
   "cell_type": "markdown",
   "metadata": {},
   "source": []
  },
  {
   "cell_type": "code",
   "execution_count": null,
   "metadata": {},
   "outputs": [],
   "source": [
    "\n",
    "for model_name, model in models.items():\n",
    "    print(f\"Training {model_name}...\")\n",
    "    model.fit(X_train, y_train)\n",
    "    y_pred = model.predict(X_test)\n",
    "    \n",
    "    \n",
    "    print(f\"{model_name} Performance:\")\n",
    "    print(classification_report(y_test, y_pred))\n",
    "    print(f\"Accuracy: {accuracy_score(y_test, y_pred):.2f}\")\n",
    "    print(\"-\" * 50)"
   ]
  },
  {
   "cell_type": "code",
   "execution_count": null,
   "metadata": {},
   "outputs": [],
   "source": [
    "# GradientBoostingClassifier model\n",
    "model = GradientBoostingClassifier(random_state=0)\n",
    "\n",
    "\n",
    "param_grid = {\n",
    "    'n_estimators': [100, 300],  \n",
    "    'max_depth': [3, 5],  \n",
    "    'min_samples_leaf': [5, 7],  \n",
    "    'learning_rate': [0.1, 0.05],  \n",
    "    'max_features': [0.5, 1.0],\n",
    "    'loss': ['log_loss']  \n",
    "}\n",
    "\n",
    "\n",
    "gs_cv = GridSearchCV(model, param_grid, n_jobs=4, verbose=50, cv=3, scoring='accuracy')\n",
    "\n",
    "gs_cv.fit(X_train, y_train)\n",
    "\n",
    "\n",
    "print(\"Best Parameters from GridSearchCV:\", gs_cv.best_params_)\n",
    "\n",
    "\n",
    "best_model = gs_cv.best_estimator_\n",
    "train_accuracy = accuracy_score(y_train, best_model.predict(X_train))\n",
    "test_accuracy = accuracy_score(y_test, best_model.predict(X_test))\n",
    "\n",
    "print(f\"Training Set Accuracy: {train_accuracy:.4f}\")\n",
    "print(f\"Test Set Accuracy: {test_accuracy:.4f}\")\n"
   ]
  },
  {
   "cell_type": "code",
   "execution_count": null,
   "metadata": {},
   "outputs": [],
   "source": [
    "\n",
    "# Code for not overwrite\n",
    "best_model = gs_cv.best_estimator_\n",
    "best_model.fit(X_train, y_train)\n",
    "\n",
    "\n",
    "joblib.dump(best_model, 'Student_Depression_Model.pkl')\n"
   ]
  },
  {
   "cell_type": "code",
   "execution_count": null,
   "metadata": {},
   "outputs": [],
   "source": []
  },
  {
   "cell_type": "code",
   "execution_count": null,
   "metadata": {},
   "outputs": [],
   "source": [
    "# Feature labels (excluding 'Depression')\n",
    "feature_labels = np.array([\n",
    "    'Gender', 'Academic Pressure', 'CGPA', 'Study Satisfaction', 'Job Satisfaction',\n",
    "    'Have you ever had suicidal thoughts ?', 'Work/Study Hours', 'Financial Stress', \n",
    "    'Family History of Mental Illness', 'Sleep Duration_5-6 hours', \n",
    "    'Sleep Duration_7-8 hours', 'Sleep Duration_Less than 5 hours', \n",
    "    'Sleep Duration_More than 8 hours', 'Sleep Duration_Others', \n",
    "    'Dietary Habits_Healthy', 'Dietary Habits_Moderate', \n",
    "    'Dietary Habits_Others', 'Dietary Habits_Unhealthy'\n",
    "])\n",
    "\n",
    "\n",
    "model = joblib.load('Student_Depression_Model.pkl')\n",
    "\n",
    "\n",
    "importance = model.feature_importances_\n",
    "\n",
    "\n",
    "feature_indexes_by_importance = importance.argsort()[::-1]  \n",
    "\n",
    "\n",
    "print(\"Feature Importance Rankings:\")\n",
    "for index in feature_indexes_by_importance:\n",
    "    print(f\"{feature_labels[index]} - {importance[index]:.2f}%\")\n",
    "\n",
    "\n",
    "# importance_df.to_csv('feature_importance.csv', index=False)"
   ]
  },
  {
   "cell_type": "code",
   "execution_count": 545,
   "metadata": {},
   "outputs": [],
   "source": [
    "df = df.drop(columns =  ['Gender', 'CGPA', 'Sleep Duration_Less than 5 hours', 'Sleep Duration_More than 8 hours',\n",
    "    'Sleep Duration_5-6 hours', 'Sleep Duration_7-8 hours', 'Sleep Duration_Others',\n",
    "    'Dietary Habits_Moderate', 'Dietary Habits_Others', 'Job Satisfaction', \n",
    "    'Family History of Mental Illness'])"
   ]
  },
  {
   "cell_type": "code",
   "execution_count": null,
   "metadata": {},
   "outputs": [],
   "source": [
    "df"
   ]
  },
  {
   "cell_type": "code",
   "execution_count": 547,
   "metadata": {},
   "outputs": [],
   "source": [
    "X = df.drop(columns=['Depression']).to_numpy()\n",
    "y = df['Depression'].to_numpy()  \n",
    "X_train, X_test, y_train, y_test = train_test_split(X, y, test_size=0.2, random_state=42)"
   ]
  },
  {
   "cell_type": "code",
   "execution_count": null,
   "metadata": {},
   "outputs": [],
   "source": [
    "# # Train and evaluate each model\n",
    "# for model_name, model in models.items():\n",
    "#     print(f\"Training {model_name}...\")\n",
    "#     model.fit(X_train, y_train)\n",
    "#     y_pred = model.predict(X_test)\n",
    "    \n",
    "#     # Evaluate\n",
    "#     print(f\"{model_name} Performance:\")\n",
    "#     print(classification_report(y_test, y_pred))\n",
    "#     print(f\"Accuracy: {accuracy_score(y_test, y_pred):.2f}\")\n",
    "#     print(\"-\" * 50)\n",
    "\n",
    "best_model = GradientBoostingClassifier(learning_rate= 0.1)  \n",
    "print(\"Training Gradient Boosting Model\")\n",
    "best_model.fit(X_train, y_train)\n",
    "\n",
    "\n",
    "y_pred = best_model.predict(X_test)\n",
    "print(\"Gradient Boosting Model Performance:\")\n",
    "print(classification_report(y_test, y_pred))\n",
    "print(f\"Accuracy: {accuracy_score(y_test, y_pred):.2f}\")\n",
    "\n",
    "\n",
    "joblib.dump(best_model, 'New_Student_Depression_Model.pkl')\n",
    "print(\"Model saved as 'New_Student_Depression_Model.pkl'\")"
   ]
  },
  {
   "cell_type": "code",
   "execution_count": null,
   "metadata": {},
   "outputs": [],
   "source": []
  },
  {
   "cell_type": "code",
   "execution_count": null,
   "metadata": {},
   "outputs": [],
   "source": []
  }
 ],
 "metadata": {
  "kernelspec": {
   "display_name": "base",
   "language": "python",
   "name": "python3"
  },
  "language_info": {
   "codemirror_mode": {
    "name": "ipython",
    "version": 3
   },
   "file_extension": ".py",
   "mimetype": "text/x-python",
   "name": "python",
   "nbconvert_exporter": "python",
   "pygments_lexer": "ipython3",
   "version": "3.10.9"
  }
 },
 "nbformat": 4,
 "nbformat_minor": 2
}
